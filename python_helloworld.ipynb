{
 "cells": [
  {
   "cell_type": "markdown",
   "metadata": {},
   "source": [
    "# G7 Python 入门课程\n",
    "## 项目1 Python操作入门\n",
    "\n",
    "入门可能主要是读取税前薪水和可能的纳税额，根据正确的公式，判断是否正确"
   ]
  },
  {
   "cell_type": "markdown",
   "metadata": {},
   "source": [
    "**提示**：这样的文字将会指导你如何使用 iPython Notebook 来完成项目。"
   ]
  },
  {
   "cell_type": "code",
   "execution_count": 1,
   "metadata": {},
   "outputs": [
    {
     "name": "stdout",
     "output_type": "stream",
     "text": [
      "你的版本是Python2.7，请继续\n"
     ]
    }
   ],
   "source": [
    "# 检查你的Python版本\n",
    "from sys import version_info\n",
    "if version_info.major != 2 and version_info.minor != 7:\n",
    "    raise Exception('请使用Python 2.7来完成此项目')\n",
    "else:\n",
    "    print \"你的版本是Python2.7，请继续\""
   ]
  },
  {
   "cell_type": "code",
   "execution_count": 2,
   "metadata": {},
   "outputs": [
    {
     "ename": "ImportError",
     "evalue": "No module named pandas",
     "output_type": "error",
     "traceback": [
      "\u001b[1;31m\u001b[0m",
      "\u001b[1;31mImportError\u001b[0mTraceback (most recent call last)",
      "\u001b[1;32m<ipython-input-2-c9043d0f28d3>\u001b[0m in \u001b[0;36m<module>\u001b[1;34m()\u001b[0m\n\u001b[0;32m      1\u001b[0m \u001b[1;32mimport\u001b[0m \u001b[0mnumpy\u001b[0m \u001b[1;32mas\u001b[0m \u001b[0mnp\u001b[0m\u001b[1;33m\u001b[0m\u001b[0m\n\u001b[1;32m----> 2\u001b[1;33m \u001b[1;32mimport\u001b[0m \u001b[0mpandas\u001b[0m \u001b[1;32mas\u001b[0m \u001b[0mpd\u001b[0m\u001b[1;33m\u001b[0m\u001b[0m\n\u001b[0m\u001b[0;32m      3\u001b[0m \u001b[1;33m\u001b[0m\u001b[0m\n\u001b[0;32m      4\u001b[0m \u001b[1;31m# 数据可视化代码\u001b[0m\u001b[1;33m\u001b[0m\u001b[1;33m\u001b[0m\u001b[0m\n\u001b[0;32m      5\u001b[0m \u001b[1;32mfrom\u001b[0m \u001b[0mtitanic_visualizations\u001b[0m \u001b[1;32mimport\u001b[0m \u001b[0msurvival_stats\u001b[0m\u001b[1;33m\u001b[0m\u001b[0m\n",
      "\u001b[1;31mImportError\u001b[0m: No module named pandas"
     ]
    }
   ],
   "source": [
    "import numpy as np\n",
    "import pandas as pd\n",
    "\n",
    "# 数据可视化代码\n",
    "from titanic_visualizations import survival_stats\n",
    "from IPython.display import display\n",
    "%matplotlib inline\n",
    "\n",
    "# 加载数据集\n",
    "in_file = 'data.csv'\n",
    "full_data = pd.read_csv(in_file)\n",
    "\n",
    "# 显示数据列表中的前几项数据\n",
    "display(full_data.head())"
   ]
  },
  {
   "cell_type": "markdown",
   "metadata": {},
   "source": [
    "数据样本中，我们可以看到的特征\n",
    "\n",
    "- **name**：名称\n",
    "- **salary**：税前薪水\n",
    "- **tax_maybe**：可能的缴税额度\n",
    "\n"
   ]
  },
  {
   "cell_type": "markdown",
   "metadata": {},
   "source": [
    "个税的计算方式\n",
    "![xxx](https://img-blog.csdn.net/20171017113915227?watermark/2/text/aHR0cDovL2Jsb2cuY3Nkbi5uZXQvVG9nZXRoZXJfQ1o=/font/5a6L5L2T/fontsize/400/fill/I0JBQkFCMA==/dissolve/70/gravity/Center)"
   ]
  },
  {
   "cell_type": "code",
   "execution_count": 3,
   "metadata": {},
   "outputs": [],
   "source": [
    "def calculator(salary):\n",
    "    \"\"\" 返回税后薪水 \"\"\"\n",
    "    \n",
    "    point = 3500  #免征额\n",
    "    endowment_insurance_rate = 0.08  # 养老保险费率\n",
    "    hospital_rate = 0.02  # 医疗保险费率\n",
    "    losejob_rate = 0.01  # 失业保险费率\n",
    "    provident_rate = 0.12  # 公积金费率\n",
    "    provident_max = 20972 # 公积金基数最大值\n",
    "    provident_min = 1500 # 公积金基数最小值\n",
    "    \n",
    "    endowment_insurance_min = 2193 # 养老保险基数最小值\n",
    "    endowment_insurance_max = 16445 #养老保险基数最大值\n",
    "    \n",
    "    # TODO 请正确计算纳税额，返回税后薪水，并替换下面的一行\n",
    "    \n",
    "     #计算公积金缴存基数\n",
    "    if salary < provident_min:\n",
    "        provident_base = provident_min\n",
    "    elif salary < provident_max:\n",
    "        provident_base = salary\n",
    "    else:\n",
    "        provident_base = provident_max\n",
    "\n",
    "    #计算社会保险缴存基数\n",
    "    if salary < endowment_insurance_min:\n",
    "        endowment_insurance_base = endowment_insurance_min\n",
    "    elif salary < endowment_insurance_max:\n",
    "        endowment_insurance_base = salary\n",
    "    else:\n",
    "        endowment_insurance_base = endowment_insurance_max\n",
    "\n",
    "    #计算公积金缴存金额\n",
    "    provident_amount = provident_base * provident_rate\n",
    "\n",
    "    #计算养老保险缴存金额\n",
    "    endowment_insurance = endowment_insurance_base * endowment_insurance_rate\n",
    "\n",
    "    #计算医疗保险缴存金额\n",
    "    hospital_amount = endowment_insurance_base * hospital_rate\n",
    "\n",
    "    #计算失业保险缴存金额\n",
    "    losejob_amount = endowment_insurance_base * losejob_rate\n",
    "\n",
    "    #计算工资扣除公积金和社保以后的金额\n",
    "    surplus_salary = salary - provident_amount - endowment_insurance - hospital_amount - losejob_amount\n",
    "\n",
    "    #是否需要缴税，并计算纳税金额\n",
    "    if surplus_salary < point:\n",
    "        res_money = surplus_salary\n",
    "        tax = 0\n",
    "    else:\n",
    "        taxable_amount = surplus_salary - point\n",
    "\n",
    "        #计算纳税额度\n",
    "        if taxable_amount < 1500:\n",
    "             tax = taxable_amount * 0.03\n",
    "        elif taxable_amount < 4500:\n",
    "            tax = (taxable_amount - 1500) * 0.10 + 105\n",
    "        elif taxable_amount < 9000:\n",
    "             tax = (taxable_amount - 4500) * 0.20 + 555\n",
    "        elif taxable_amount < 35000:\n",
    "            tax = (taxable_amount - 9000) * 0.25 + 1005\n",
    "        elif taxable_amount < 55000:\n",
    "            tax = (taxable_amount - 35000) * 0.30 + 2755\n",
    "        elif taxable_amount < 80000:\n",
    "            tax = (taxable_amount - 55000) * 0.35 + 5505\n",
    "        else:\n",
    "            tax = (taxable_amount - 80000) * 0.45 + 13505\n",
    "\n",
    "    #计算纳税后的金额\n",
    "    res_money = surplus_salary - tax\n",
    "    \n",
    "    print '税前工资为：{0}, 税后工资为：{1}'.format(salary, res_money) \n",
    "    return res_money\n",
    "    \n"
   ]
  },
  {
   "cell_type": "code",
   "execution_count": 51,
   "metadata": {},
   "outputs": [
    {
     "name": "stdout",
     "output_type": "stream",
     "text": [
      "税前工资为：2500, 税后工资为：2500\n",
      "税前工资为：7000, 税后工资为：7000\n",
      "税前工资为：8000, 税后工资为：8000\n",
      "税前工资为：9000, 税后工资为：9000\n",
      "税前工资为：50000, 税后工资为：50000\n"
     ]
    }
   ],
   "source": [
    "taxs = {}\n",
    "for index, salary in full_data.iterrows():\n",
    "    tax = calculator(salary['salary'])\n",
    "    taxs[salary['name']] = tax\n",
    "    if (tax == salary['tax_maybe']):\n",
    "        print \"so cool\"\n"
   ]
  },
  {
   "cell_type": "markdown",
   "metadata": {},
   "source": [
    "## 扩展内容\n",
    "将正确的纳税额导出到export.csv，并计算预测的正确率\n"
   ]
  },
  {
   "cell_type": "code",
   "execution_count": 58,
   "metadata": {},
   "outputs": [
    {
     "name": "stdout",
     "output_type": "stream",
     "text": [
      "export done\n"
     ]
    },
    {
     "data": {
      "text/html": [
       "<div>\n",
       "<style scoped>\n",
       "    .dataframe tbody tr th:only-of-type {\n",
       "        vertical-align: middle;\n",
       "    }\n",
       "\n",
       "    .dataframe tbody tr th {\n",
       "        vertical-align: top;\n",
       "    }\n",
       "\n",
       "    .dataframe thead th {\n",
       "        text-align: right;\n",
       "    }\n",
       "</style>\n",
       "<table border=\"1\" class=\"dataframe\">\n",
       "  <thead>\n",
       "    <tr style=\"text-align: right;\">\n",
       "      <th></th>\n",
       "      <th>name</th>\n",
       "    </tr>\n",
       "  </thead>\n",
       "  <tbody>\n",
       "  </tbody>\n",
       "</table>\n",
       "</div>"
      ],
      "text/plain": [
       "Empty DataFrame\n",
       "Columns: [name]\n",
       "Index: []"
      ]
     },
     "metadata": {},
     "output_type": "display_data"
    }
   ],
   "source": [
    "def export() :\n",
    "    # TODO 请导出正确的纳税额到export.csv, tax作为最后一列\n",
    "    print \"export done\"\n",
    "export()\n",
    "\n",
    "# 加载数据集\n",
    "in_file = 'export.csv'\n",
    "export_data = pd.read_csv(in_file)\n",
    "\n",
    "# 显示数据列表中的前几项数据\n",
    "display(export_data.head())"
   ]
  },
  {
   "cell_type": "code",
   "execution_count": 77,
   "metadata": {},
   "outputs": [
    {
     "data": {
      "text/plain": [
       "'accuracy of 0.00%.'"
      ]
     },
     "execution_count": 77,
     "metadata": {},
     "output_type": "execute_result"
    }
   ],
   "source": [
    "def accuracy_score():\n",
    "    # TODO 计算正确率\n",
    "    socre = 0\n",
    "    return \"accuracy of {:.2f}%.\".format(socre)\n",
    "accuracy_score()"
   ]
  },
  {
   "cell_type": "markdown",
   "metadata": {},
   "source": [
    "> **注意**: 当你写完了所有**4个TODO**。你就可以把你的 iPython Notebook 导出成 HTML 文件。你可以在菜单栏，这样导出**File -> Download as -> HTML (.html)** 把这个 HTML 和这个 iPython notebook 一起做为你的作业提交。"
   ]
  },
  {
   "cell_type": "code",
   "execution_count": null,
   "metadata": {},
   "outputs": [],
   "source": []
  }
 ],
 "metadata": {
  "kernelspec": {
   "display_name": "Python 2",
   "language": "python",
   "name": "python2"
  },
  "language_info": {
   "codemirror_mode": {
    "name": "ipython",
    "version": 2
   },
   "file_extension": ".py",
   "mimetype": "text/x-python",
   "name": "python",
   "nbconvert_exporter": "python",
   "pygments_lexer": "ipython2",
   "version": "2.7.10"
  }
 },
 "nbformat": 4,
 "nbformat_minor": 2
}
